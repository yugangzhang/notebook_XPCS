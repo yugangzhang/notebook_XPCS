{
 "cells": [
  {
   "cell_type": "code",
   "execution_count": null,
   "metadata": {
    "collapsed": true
   },
   "outputs": [],
   "source": [
    "import sys, shutil\n",
    "EssCod_PATH='/home/yuzhang/XPCS_Anlysis/notebook_XPCS/EssCode/'\n",
    "EssCod_PATH in sys.path or sys.path.append(EssCod_PATH)\n",
    " \n",
    "\n",
    "from Get_Data import readframe_series\n",
    "from Process_Data import average_img, cpdump,cpopen \n",
    "from Plot_Data import plot,show_img,show_mask,show_img_with_ROI,pd_data_plot\n",
    "from XPCS_Functions import make_qlist, calqlist,get_trace_and_maxc\n",
    "from XPCS_Functions import get_pixellist_intensity,azimuthal_integration\n",
    "from XPCS_Functions import calqlist_regions, get_waterfall\n",
    "from XPCS import xpcs\n",
    "\n",
    "from XSVS import xsvs\n",
    "from Plot_XSVS import xsvs_plot_histogram\n",
    "\n",
    "\n",
    "import numpy as np\n",
    "import matplotlib.pyplot as plt\n",
    "\n",
    "\n",
    "from Setup_file import *"
   ]
  },
  {
   "cell_type": "code",
   "execution_count": null,
   "metadata": {
    "collapsed": true
   },
   "outputs": [],
   "source": []
  },
  {
   "cell_type": "code",
   "execution_count": null,
   "metadata": {
    "collapsed": true
   },
   "outputs": [],
   "source": []
  },
  {
   "cell_type": "code",
   "execution_count": null,
   "metadata": {
    "collapsed": true
   },
   "outputs": [],
   "source": []
  }
 ],
 "metadata": {
  "kernelspec": {
   "display_name": "CHX (py3)",
   "language": "",
   "name": "xf11id-srv1"
  }
 },
 "nbformat": 4,
 "nbformat_minor": 0
}
