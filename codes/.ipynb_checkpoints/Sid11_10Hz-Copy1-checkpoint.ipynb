{
 "cells": [
  {
   "cell_type": "markdown",
   "metadata": {},
   "source": [
    "# Import necessary Lib"
   ]
  },
  {
   "cell_type": "code",
   "execution_count": null,
   "metadata": {
    "collapsed": false
   },
   "outputs": [],
   "source": [
    "import sys, shutil\n",
    "EssCod_PATH='/home/yuzhang/XPCS_Anlysis/notebook_XPCS/EssCode/'\n",
    "EssCod_PATH in sys.path or sys.path.append(EssCod_PATH)\n",
    " \n",
    "\n",
    "from Get_Data import readframe_series\n",
    "from Process_Data import average_img, cpdump,cpopen \n",
    "from Plot_Data import plot,show_img,show_mask,show_img_with_ROI,pd_data_plot\n",
    "from XPCS_Functions import make_qlist, calqlist,get_trace_and_maxc\n",
    "from XPCS_Functions import get_pixellist_intensity,azimuthal_integration\n",
    "from XPCS_Functions import calqlist_regions, get_waterfall\n",
    "from XPCS import xpcs\n",
    "\n",
    "from XSVS import xsvs\n",
    "from Plot_XSVS import xsvs_plot_histogram\n",
    "\n",
    "\n",
    "import numpy as np\n",
    "import matplotlib.pyplot as plt\n",
    "\n",
    "\n",
    "from Setup_file import *"
   ]
  },
  {
   "cell_type": "code",
   "execution_count": null,
   "metadata": {
    "collapsed": true
   },
   "outputs": [],
   "source": [
    "%matplotlib notebook\n",
    "%matplotlib inline"
   ]
  },
  {
   "cell_type": "markdown",
   "metadata": {},
   "source": [
    "# Sample description"
   ]
  },
  {
   "cell_type": "markdown",
   "metadata": {},
   "source": [
    "sid = 'series4M_11_master.h5' \n",
    "FILENAME = 'coralPor_10Hz_'  \n",
    "noframes = 1000\n",
    "exposuretime= 100 ms\n",
    "acquisition period =100 ms"
   ]
  },
  {
   "cell_type": "markdown",
   "metadata": {},
   "source": [
    "# Load Data, Do average"
   ]
  },
  {
   "cell_type": "code",
   "execution_count": null,
   "metadata": {
    "collapsed": true
   },
   "outputs": [],
   "source": [
    "imgs = readframe_series(sid,inDir)\n",
    "\n",
    "if T:\n",
    "    ave = average_img(imgs)\n",
    "    np.save( outDir + 'sid_%s-ave'%sid,ave)\n",
    "if F:\n",
    "    ave= np.load(outDir + 'sid_%s-ave.npy'%sid)"
   ]
  },
  {
   "cell_type": "code",
   "execution_count": null,
   "metadata": {
    "collapsed": false
   },
   "outputs": [],
   "source": [
    "imgs"
   ]
  },
  {
   "cell_type": "code",
   "execution_count": null,
   "metadata": {
    "collapsed": false
   },
   "outputs": [],
   "source": [
    "img=ave\n",
    "img.shape\n"
   ]
  },
  {
   "cell_type": "markdown",
   "metadata": {},
   "source": [
    "# Show images, data/mask/ROI"
   ]
  },
  {
   "cell_type": "code",
   "execution_count": null,
   "metadata": {
    "collapsed": false
   },
   "outputs": [],
   "source": [
    "show_img( ave, vmin=0.1,vmax=20,logs=True, set_cb=True,\n",
    "         xlim=None,ylim=None,title='sid_%s-ave'%sid,\n",
    "          save=True, outDir=outDir)"
   ]
  },
  {
   "cell_type": "code",
   "execution_count": null,
   "metadata": {
    "collapsed": false
   },
   "outputs": [],
   "source": [
    "show_mask( img,mask,vmin=0.1,vmax=20,\n",
    "        logs=True, set_cb=True,\n",
    "         xlim=None,ylim=None,title='sid_%save-mask'%sid,\n",
    "          save=True, outDir=outDir)"
   ]
  },
  {
   "cell_type": "code",
   "execution_count": null,
   "metadata": {
    "collapsed": true
   },
   "outputs": [],
   "source": [
    "dimy,dimx = img.shape\n",
    "qlist,qradi = make_qlist(qstart,qend,qwidth,noqs)\n",
    "pixellist,qind,nopr,nopixels = calqlist(qlist,qradi, dimx,dimy,\n",
    "                        cenx,ceny,qmask=mask); #calculate the pixellist, q_arrays"
   ]
  },
  {
   "cell_type": "code",
   "execution_count": null,
   "metadata": {
    "collapsed": false,
    "scrolled": true
   },
   "outputs": [],
   "source": [
    "\n",
    "title='sid_%s_ave-cuts_'%sid \n",
    "show_img_with_ROI(img, pixellist,qind+0, 0.01,1000,\n",
    "                  save=True,outDir= outDir,title=title,set_cb=True)"
   ]
  },
  {
   "cell_type": "markdown",
   "metadata": {},
   "source": [
    "# Plot one ring to check center"
   ]
  },
  {
   "cell_type": "code",
   "execution_count": null,
   "metadata": {
    "collapsed": false
   },
   "outputs": [],
   "source": [
    "cd XPCS_Anlysis/notebook_XPCS/EssCode/"
   ]
  },
  {
   "cell_type": "code",
   "execution_count": null,
   "metadata": {
    "collapsed": true
   },
   "outputs": [],
   "source": [
    "%run XPCS_Functions.py"
   ]
  },
  {
   "cell_type": "code",
   "execution_count": null,
   "metadata": {
    "collapsed": false
   },
   "outputs": [],
   "source": [
    "\n",
    "center =  [838.6 , 1634.66]\n",
    "px, iy = get_pixellist_intensity( img, center, q=245, qwidth=2, qmask=mask)\n",
    "plot(px,iy,logy=F,title='sid_%s-ave-Inten@q=245'%sid,xlabel='pixel',\n",
    "         ylabel='intensity',xlim=None,outDir=outDir,save=True)"
   ]
  },
  {
   "cell_type": "code",
   "execution_count": null,
   "metadata": {
    "collapsed": false,
    "scrolled": true
   },
   "outputs": [],
   "source": [
    "center =  [838.6 , 1634.66]\n",
    "px, iy = get_pixellist_intensity( img, center, q=120, qwidth=2, qmask=mask)\n",
    "plot(px,iy,logy=F,title='sid_%s-ave-Inten@q=245'%sid,xlabel='pixel',\n",
    "         ylabel='intensity',xlim=None,outDir=outDir,save=True)\n",
    "\n"
   ]
  },
  {
   "cell_type": "markdown",
   "metadata": {},
   "source": [
    "# Plot q-Iq"
   ]
  },
  {
   "cell_type": "code",
   "execution_count": null,
   "metadata": {
    "collapsed": false
   },
   "outputs": [],
   "source": [
    "dimx,dimy"
   ]
  },
  {
   "cell_type": "code",
   "execution_count": null,
   "metadata": {
    "collapsed": true
   },
   "outputs": [],
   "source": [
    "%run XPCS_Functions.py\n",
    "%run Process_Data.py"
   ]
  },
  {
   "cell_type": "code",
   "execution_count": null,
   "metadata": {
    "collapsed": false
   },
   "outputs": [],
   "source": [
    "    dimy,dimx = img.shape\n",
    " \n",
    "    noqs = int( float(qend - qstart)/qwidth +1)\n",
    "    qend = qstart + noqs*qwidth\n",
    "    #print noqs,qend\n",
    "    qlist,qradi = make_qlist(qstart,qend, qwidth, noqs)\n",
    "    pixellist,qind,nopr,nopixels = calqlist(qlist,qradi, dimx,dimy, cenx,ceny,qmask)"
   ]
  },
  {
   "cell_type": "code",
   "execution_count": null,
   "metadata": {
    "collapsed": true
   },
   "outputs": [],
   "source": [
    "y, x = np.indices( [dimy,dimx] )\n",
    "#y_= y- ceny +1;x_=x-cenx+1        \n",
    "\n",
    "y_= y- ceny +1 ;x_=x-cenx +1 \n",
    "r= np.int_( np.hypot(x_, y_)    + 0.5  )\n",
    "\n",
    "#r= np.int_( np.hypot(x_, y_)    + 0.5  )\n",
    "    \n",
    "r= r.flatten() \n",
    "#print qlist\n",
    "noqrs = len(qlist)    \n",
    "qind = np.digitize(r, qlist)   "
   ]
  },
  {
   "cell_type": "code",
   "execution_count": null,
   "metadata": {
    "collapsed": false
   },
   "outputs": [],
   "source": [
    "y_[1]"
   ]
  },
  {
   "cell_type": "code",
   "execution_count": null,
   "metadata": {
    "collapsed": false
   },
   "outputs": [],
   "source": [
    "ceny"
   ]
  },
  {
   "cell_type": "code",
   "execution_count": null,
   "metadata": {
    "collapsed": true
   },
   "outputs": [],
   "source": []
  },
  {
   "cell_type": "code",
   "execution_count": null,
   "metadata": {
    "collapsed": false
   },
   "outputs": [],
   "source": [
    "ceny"
   ]
  },
  {
   "cell_type": "code",
   "execution_count": null,
   "metadata": {
    "collapsed": true
   },
   "outputs": [],
   "source": []
  },
  {
   "cell_type": "code",
   "execution_count": null,
   "metadata": {
    "collapsed": false
   },
   "outputs": [],
   "source": []
  },
  {
   "cell_type": "code",
   "execution_count": null,
   "metadata": {
    "collapsed": true
   },
   "outputs": [],
   "source": []
  },
  {
   "cell_type": "code",
   "execution_count": null,
   "metadata": {
    "collapsed": false
   },
   "outputs": [],
   "source": [
    "y_[0]"
   ]
  },
  {
   "cell_type": "code",
   "execution_count": null,
   "metadata": {
    "collapsed": false
   },
   "outputs": [],
   "source": [
    "qind[:10]"
   ]
  },
  {
   "cell_type": "code",
   "execution_count": null,
   "metadata": {
    "collapsed": true
   },
   "outputs": [],
   "source": []
  },
  {
   "cell_type": "code",
   "execution_count": null,
   "metadata": {
    "collapsed": false
   },
   "outputs": [],
   "source": [
    "r[:10]"
   ]
  },
  {
   "cell_type": "code",
   "execution_count": null,
   "metadata": {
    "collapsed": false
   },
   "outputs": [],
   "source": [
    "qlist[:10]"
   ]
  },
  {
   "cell_type": "code",
   "execution_count": null,
   "metadata": {
    "collapsed": false
   },
   "outputs": [],
   "source": [
    "qind.shape"
   ]
  },
  {
   "cell_type": "code",
   "execution_count": null,
   "metadata": {
    "collapsed": true
   },
   "outputs": [],
   "source": []
  },
  {
   "cell_type": "code",
   "execution_count": null,
   "metadata": {
    "collapsed": false
   },
   "outputs": [],
   "source": [
    "dimx"
   ]
  },
  {
   "cell_type": "code",
   "execution_count": null,
   "metadata": {
    "collapsed": false
   },
   "outputs": [],
   "source": [
    "qlist[100:120]"
   ]
  },
  {
   "cell_type": "code",
   "execution_count": null,
   "metadata": {
    "collapsed": true
   },
   "outputs": [],
   "source": []
  },
  {
   "cell_type": "code",
   "execution_count": null,
   "metadata": {
    "collapsed": false
   },
   "outputs": [],
   "source": [
    "qradi[100:120]"
   ]
  },
  {
   "cell_type": "code",
   "execution_count": null,
   "metadata": {
    "collapsed": true
   },
   "outputs": [],
   "source": []
  },
  {
   "cell_type": "code",
   "execution_count": null,
   "metadata": {
    "collapsed": true
   },
   "outputs": [],
   "source": []
  },
  {
   "cell_type": "code",
   "execution_count": null,
   "metadata": {
    "collapsed": true
   },
   "outputs": [],
   "source": []
  },
  {
   "cell_type": "code",
   "execution_count": null,
   "metadata": {
    "collapsed": true
   },
   "outputs": [],
   "source": []
  },
  {
   "cell_type": "code",
   "execution_count": null,
   "metadata": {
    "collapsed": false
   },
   "outputs": [],
   "source": [
    "if T:\n",
    "    q,iq=azimuthal_integration( img, qstart=1, qend=1500, qwidth=1,\n",
    "            cenx=cenx,ceny=ceny, qmask=mask,)\n",
    "    cpdump([q,iq],'sid_%s-q-iq'%sid,outDir)\n",
    "else:\n",
    "    q,iq=cpopen('sid_%s-q-iq'%sid,outDir )"
   ]
  },
  {
   "cell_type": "code",
   "execution_count": null,
   "metadata": {
    "collapsed": false
   },
   "outputs": [],
   "source": [
    " \n",
    "plot(q*qperpixel,iq,logy=T,title='sid-%s_ave'%sid,xlabel='q',\n",
    "         ylabel='Iq',xlim=[0.001,.12],outDir=outDir,save=True)"
   ]
  },
  {
   "cell_type": "code",
   "execution_count": null,
   "metadata": {
    "collapsed": true
   },
   "outputs": [],
   "source": []
  }
 ],
 "metadata": {
  "kernelspec": {
   "display_name": "CHX (py3)",
   "language": "",
   "name": "xf11id-srv1"
  },
  "language_info": {
   "codemirror_mode": {
    "name": "ipython",
    "version": 3
   },
   "file_extension": ".py",
   "mimetype": "text/x-python",
   "name": "python",
   "nbconvert_exporter": "python",
   "pygments_lexer": "ipython3",
   "version": "3.4.3"
  }
 },
 "nbformat": 4,
 "nbformat_minor": 0
}
