{
 "cells": [
  {
   "cell_type": "markdown",
   "metadata": {},
   "source": [
    "# Import necessary Lib"
   ]
  },
  {
   "cell_type": "code",
   "execution_count": 117,
   "metadata": {
    "collapsed": false
   },
   "outputs": [],
   "source": [
    "import sys, shutil\n",
    "EssCod_PATH='/home/yuzhang/XPCS_Anlysis/notebook_XPCS/EssCode/'\n",
    "EssCod_PATH in sys.path or sys.path.append(EssCod_PATH)\n",
    " \n",
    "\n",
    "from Get_Data import readframe_series\n",
    "from Process_Data import average_img, cpdump,cpopen \n",
    "from Plot_Data import plot,show_img,show_mask,show_img_with_ROI,pd_data_plot\n",
    "from XPCS_Functions import make_qlist, calqlist,get_trace_and_maxc\n",
    "from XPCS_Functions import get_pixellist_intensity,azimuthal_integration\n",
    "from XPCS_Functions import calqlist_regions, get_waterfall\n",
    "from XPCS import xpcs\n",
    "\n",
    "from XSVS import xsvs\n",
    "from Plot_XSVS import xsvs_plot_histogram\n",
    "\n",
    "\n",
    "import numpy as np\n",
    "import matplotlib.pyplot as plt\n",
    "\n",
    "\n",
    "from Setup_file import *"
   ]
  },
  {
   "cell_type": "code",
   "execution_count": 118,
   "metadata": {
    "collapsed": false
   },
   "outputs": [],
   "source": [
    "%matplotlib notebook\n",
    "%matplotlib inline"
   ]
  },
  {
   "cell_type": "markdown",
   "metadata": {},
   "source": [
    "# Start XSVS class"
   ]
  },
  {
   "cell_type": "code",
   "execution_count": 119,
   "metadata": {
    "collapsed": false
   },
   "outputs": [],
   "source": [
    "xs=xsvs()"
   ]
  },
  {
   "cell_type": "markdown",
   "metadata": {},
   "source": [
    "# Get trace of rings"
   ]
  },
  {
   "cell_type": "markdown",
   "metadata": {},
   "source": [
    "If already did this calculation in XPCS, then just load the results."
   ]
  },
  {
   "cell_type": "code",
   "execution_count": null,
   "metadata": {
    "collapsed": true
   },
   "outputs": [],
   "source": [
    "\n",
    "#begframe,noframes = 0,1000\n",
    "qlist,qradi = make_qlist(qstart,qend,qwidth,noqs)\n",
    "pixellist,qind,nopr,nopixels = calqlist(qlist,qradi, dimx,dimy,\n",
    "                        cenx,ceny,qmask=mask); #calculate the pixellist, q_arrays\n",
    "\n",
    "if F:\n",
    "    trace, maxcts = get_trace_and_maxc(imgs,pixellist,qind,\n",
    "                begframe,noframes, )\n",
    "    print ('the max counts of rings are: %s'%maxcts)\n",
    "    #maxcts = 110\n",
    "    #np.save(outDir+'trace_Frame-%s-%s'%(begframe,noframes+begframe-1),trace)\n",
    "    cpdump(trace,'sid_%s-Ring_trace_Frame-%s-%s'%(sid,begframe,\n",
    "                                         noframes+begframe-1),outDir)\n",
    "    cpdump(maxcts, 'maxcts_sid_%s'%sid)\n",
    "else:\n",
    "    trace = cpopen('sid_%s-Ring_trace_Frame-%s-%s'%(sid,begframe, noframes+begframe-1),outDir)"
   ]
  },
  {
   "cell_type": "markdown",
   "metadata": {},
   "source": [
    "# Do histogram"
   ]
  },
  {
   "cell_type": "code",
   "execution_count": null,
   "metadata": {
    "collapsed": false
   },
   "outputs": [],
   "source": [
    "maxcts = 110\n",
    "\n",
    "timebin_level = int( np.log( noframes  )/np.log(2)) -4\n",
    "\n",
    "if T:\n",
    "    \n",
    "    bins,his, dev = xs.XSVS_Single(sid, expose_time = 0.1, maxcts = maxcts,\n",
    "                                    do_bining = True,timebin = 2,timebin_level = timebin_level )  #None)\n",
    "    cpdump([bins,his, dev], 'sid_%s_his_qn%s_qs%s_fra%s'%(\n",
    "    sid,noqs,qstart,noframes),outDir) \n",
    "\n",
    "if F:\n",
    "    bins,his, dev= cpopen( 'sid_%s_his_qn%s_qs%s_fra%s'%(\n",
    "        sid,noqs,qstart,noframes),outDir)    \n",
    "    trace = cpopen('sid_%s-trace_Frame-%s-%s'%(\n",
    "        sid,fs,fs+nf-1),outDir)"
   ]
  },
  {
   "cell_type": "markdown",
   "metadata": {},
   "source": [
    "# For all histrogram-plot"
   ]
  },
  {
   "cell_type": "code",
   "execution_count": null,
   "metadata": {
    "collapsed": false
   },
   "outputs": [],
   "source": [
    "if T:\n",
    "    trace_mean = trace.mean()\n",
    "    qradi = xs.qradi\n",
    "    xsvs_plot_histogram(bins, his, dev, trace_mean,\n",
    "        model=None,scalex=T,xlim=[0,3],show_dev=True,  expose_time = exposuretime,\n",
    "        show_poisson=F,show_gamma=F,ylim= None,qlist=qradi*qperpixel,\n",
    "    outDir=outDir, output='his_plot_qn%s_qs%s_%s-Frames.png'%(\n",
    "        noqs,qstart,noframes),plotq= None) #4)\n",
    "    \n",
    "    \n",
    "    "
   ]
  },
  {
   "cell_type": "markdown",
   "metadata": {},
   "source": [
    "# For one-q histrogram-plot"
   ]
  },
  {
   "cell_type": "code",
   "execution_count": null,
   "metadata": {
    "collapsed": false
   },
   "outputs": [],
   "source": [
    "if T:\n",
    "    trace_mean = trace.mean()\n",
    "    qradi = xs.qradi\n",
    "    xsvs_plot_histogram(bins, his, dev, trace_mean,\n",
    "        model=None,scalex=T,xlim=[0,3],show_dev=True,  expose_time = exposuretime,\n",
    "        show_poisson=F,show_gamma=F,ylim=None,qlist=qradi*qperpixel,\n",
    "    outDir=outDir, output='his_plot_qn%s_qs%s_%s-Frames.png'%(\n",
    "        noqs,qstart,noframes),plotq= 5) #4)"
   ]
  },
  {
   "cell_type": "code",
   "execution_count": null,
   "metadata": {
    "collapsed": false
   },
   "outputs": [],
   "source": [
    "if T:\n",
    "    trace_mean = trace.mean()\n",
    "    qradi = xs.qradi\n",
    "    xsvs_plot_histogram(bins, his, dev, trace_mean,\n",
    "        model=None,scalex=T,xlim=[0,3],show_dev=True,  expose_time = exposuretime,\n",
    "        show_poisson=F,show_gamma=F,ylim=None,qlist=qradi*qperpixel,\n",
    "    outDir=outDir, output='his_plot_qn%s_qs%s_%s-Frames.png'%(\n",
    "        noqs,qstart,noframes),plotq= 6) #4)"
   ]
  },
  {
   "cell_type": "markdown",
   "metadata": {},
   "source": [
    "# Do fitting of histrogram"
   ]
  },
  {
   "cell_type": "code",
   "execution_count": null,
   "metadata": {
    "collapsed": true
   },
   "outputs": [],
   "source": [
    "bins,his, dev= cpopen( 'sid_%s_his_qn%s_qs%s_fra%s'%( sid,noqs,qstart,noframes),outDir)    \n",
    "\n",
    "\n",
    "model=xs.FitVisibility(bins, his, dev, trace_mean,\n",
    "                fix_K = False,fit_gm=True)\n",
    "cpdump(model,'sid_hisf-model_qn%s_qs%s_%s-Frames'%(\n",
    "     noqs,qstart,noframes),outDir)"
   ]
  },
  {
   "cell_type": "markdown",
   "metadata": {},
   "source": [
    "# show fit of all-q"
   ]
  },
  {
   "cell_type": "code",
   "execution_count": null,
   "metadata": {
    "collapsed": true
   },
   "outputs": [],
   "source": [
    "bins,his, dev= cpopen( 'sid_%s_his_qn%s_qs%s_fra%s'%(\n",
    "    sid,noqs,qstart,noframes),outDir)    \n",
    "trace = cpopen('sid_%s-Ring_trace_Frame-%s-%s'%(sid,begframe, noframes+begframe-1),outDir)\n",
    "trace_mean = trace.mean()\n",
    "qradi = xs.qradi\n",
    "\n",
    "model= cpopen( 'sid_hisf-model_qn%s_qs%s_%s-Frames'%(\n",
    "     noqs,qstart,noframes),outDir)\n"
   ]
  },
  {
   "cell_type": "code",
   "execution_count": null,
   "metadata": {
    "collapsed": false
   },
   "outputs": [],
   "source": [
    "\n",
    "til='data'\n",
    "til='fit_bn'\n",
    "#til='fit_pois'\n",
    "#til='fit_gamma'\n",
    "#sid=sid.replace('.','')\n",
    "xsvs_plot_histogram(bins, his, dev, trace_mean, \n",
    "    model =model,scalex=True,xlim=[0,3],show_dev=True, expose_time = exposuretime,\n",
    "    show_bn=T,show_bn_K=F,show_poisson=F,show_gamma=F,\n",
    "    ylim=None,qlist=qradi*qperpixel,title='%s_'%til,\n",
    "outDir=outDir, output='sid_%s_his-%s_Qall-qn%s_qs%s_%s-Frames.png'%(sid,til,\n",
    "    noqs,qstart,noframes),plotq=None)"
   ]
  },
  {
   "cell_type": "markdown",
   "metadata": {},
   "source": [
    "# show one-q fit with binomial"
   ]
  },
  {
   "cell_type": "code",
   "execution_count": null,
   "metadata": {
    "collapsed": false
   },
   "outputs": [],
   "source": [
    "til =  'fit_bn'\n",
    "    \n",
    "xsvs_plot_histogram(bins, his, dev, trace_mean,\n",
    "    model =model,scalex=True,xlim=[0,3],show_dev=True, \n",
    "    show_bn=T,show_bn_K=F,show_poisson=F,show_gamma=F,\n",
    "    ylim=None,qlist=qradi*qperpixel,title='%s_'%til,\n",
    "outDir=outDir, output='sid_%s_his-%s_Q5-qn%s_qs%s_%s-Frames.png'%(sid,til,\n",
    "    noqs,qstart,noframes),plotq=2)"
   ]
  },
  {
   "cell_type": "code",
   "execution_count": null,
   "metadata": {
    "collapsed": false
   },
   "outputs": [],
   "source": [
    "til =  'fit_bn'\n",
    "    \n",
    "xsvs_plot_histogram(bins, his, dev, trace_mean,\n",
    "    model =model,scalex=True,xlim=[0,3],show_dev=True, \n",
    "    show_bn=T,show_bn_K=F,show_poisson=F,show_gamma=F,\n",
    "    ylim=None,qlist=qradi*qperpixel,title='%s_'%til,\n",
    "outDir=outDir, output='sid_%s_his-%s_Q5-qn%s_qs%s_%s-Frames.png'%(sid,til,\n",
    "    noqs,qstart,noframes),plotq=5)"
   ]
  },
  {
   "cell_type": "code",
   "execution_count": null,
   "metadata": {
    "collapsed": false
   },
   "outputs": [],
   "source": [
    "til =  'fit_bn'\n",
    "    \n",
    "xsvs_plot_histogram(bins, his, dev, trace_mean,\n",
    "    model =model,scalex=True,xlim=[0,3],show_dev=True, \n",
    "    show_bn=T,show_bn_K=F,show_poisson=F,show_gamma=F,\n",
    "    ylim=None,qlist=qradi*qperpixel,title='%s_'%til,\n",
    "outDir=outDir, output='sid_%s_his-%s_Q5-qn%s_qs%s_%s-Frames.png'%(sid,til,\n",
    "    noqs,qstart,noframes),plotq=8)"
   ]
  },
  {
   "cell_type": "markdown",
   "metadata": {},
   "source": [
    "# show one-q fit with binomial/possion"
   ]
  },
  {
   "cell_type": "code",
   "execution_count": null,
   "metadata": {
    "collapsed": false
   },
   "outputs": [],
   "source": [
    "til =  'fit_bn_pos'\n",
    "    \n",
    "xsvs_plot_histogram(bins, his, dev, trace_mean,\n",
    "    model =model,scalex=True,xlim=[0,3],show_dev=True,  expose_time=exposuretime,\n",
    "    show_bn=T,show_bn_K=F,show_poisson=T,show_gamma=F,\n",
    "    ylim=None,qlist=qradi*qperpixel,title='%s_'%til,\n",
    "outDir=outDir, output='sid_%s_his-%s_Q5-qn%s_qs%s_%s-Frames.png'%(sid,til,\n",
    "    noqs,qstart,noframes),plotq=2)"
   ]
  },
  {
   "cell_type": "code",
   "execution_count": null,
   "metadata": {
    "collapsed": false
   },
   "outputs": [],
   "source": [
    "til =  'fit_bn_pos'\n",
    "    \n",
    "xsvs_plot_histogram(bins, his, dev, trace_mean,\n",
    "    model =model,scalex=True,xlim=[0,3],show_dev=True,  expose_time=exposuretime,\n",
    "    show_bn=T,show_bn_K=F,show_poisson=T,show_gamma=F,\n",
    "    ylim=None,qlist=qradi*qperpixel,title='%s_'%til,\n",
    "outDir=outDir, output='sid_%s_his-%s_Q5-qn%s_qs%s_%s-Frames.png'%(sid,til,\n",
    "    noqs,qstart,noframes),plotq=5)"
   ]
  },
  {
   "cell_type": "code",
   "execution_count": null,
   "metadata": {
    "collapsed": false
   },
   "outputs": [],
   "source": [
    "til =  'fit_bn_pos'\n",
    "    \n",
    "xsvs_plot_histogram(bins, his, dev, trace_mean,\n",
    "    model =model,scalex=True,xlim=[0,3],show_dev=True,  expose_time=exposuretime,\n",
    "    show_bn=T,show_bn_K=F,show_poisson=T,show_gamma=F,\n",
    "    ylim=None,qlist=qradi*qperpixel,title='%s_'%til,\n",
    "outDir=outDir, output='sid_%s_his-%s_Q5-qn%s_qs%s_%s-Frames.png'%(sid,til,\n",
    "    noqs,qstart,noframes),plotq=8)"
   ]
  },
  {
   "cell_type": "markdown",
   "metadata": {},
   "source": [
    "# show one-q fit with binomial/gamma"
   ]
  },
  {
   "cell_type": "code",
   "execution_count": null,
   "metadata": {
    "collapsed": true
   },
   "outputs": [],
   "source": [
    "%run Plot_XSVS.py"
   ]
  },
  {
   "cell_type": "code",
   "execution_count": null,
   "metadata": {
    "collapsed": false
   },
   "outputs": [],
   "source": [
    "til =  'fit_bn_gamma'\n",
    "\n",
    "xsvs_plot_histogram(bins, his, dev, trace_mean,\n",
    "    model =model,scalex=True,xlim=[0,3],show_dev=True,  expose_time=exposuretime,\n",
    "    show_bn=T,show_bn_K=F,show_poisson=F,show_gamma=T,\n",
    "    ylim=None,qlist=qradi*qperpixel,title='%s_'%til,\n",
    "outDir=outDir, output='sid_%s_his-%s_Q5-qn%s_qs%s_%s-Frames.png'%(sid,til,\n",
    "    noqs,qstart,noframes),plotq=2)"
   ]
  },
  {
   "cell_type": "code",
   "execution_count": null,
   "metadata": {
    "collapsed": false
   },
   "outputs": [],
   "source": [
    "til =  'fit_bn_gamma'\n",
    "\n",
    "xsvs_plot_histogram(bins, his, dev, trace_mean,\n",
    "    model =model,scalex=True,xlim=[0,3],show_dev=True,  expose_time=exposuretime,\n",
    "    show_bn=T,show_bn_K=F,show_poisson=F,show_gamma=T,\n",
    "    ylim=None,qlist=qradi*qperpixel,title='%s_'%til,\n",
    "outDir=outDir, output='sid_%s_his-%s_Q5-qn%s_qs%s_%s-Frames.png'%(sid,til,\n",
    "    noqs,qstart,noframes),plotq=5)"
   ]
  },
  {
   "cell_type": "code",
   "execution_count": null,
   "metadata": {
    "collapsed": false
   },
   "outputs": [],
   "source": [
    "til =  'fit_bn_gamma'\n",
    "\n",
    "xsvs_plot_histogram(bins, his, dev, trace_mean,\n",
    "    model =model,scalex=True,xlim=[0,3],show_dev=True,  expose_time=exposuretime,\n",
    "    show_bn=T,show_bn_K=F,show_poisson=F,show_gamma=T,\n",
    "    ylim=None,qlist=qradi*qperpixel,title='%s_'%til,\n",
    "outDir=outDir, output='sid_%s_his-%s_Q5-qn%s_qs%s_%s-Frames.png'%(sid,til,\n",
    "    noqs,qstart,noframes),plotq=8)"
   ]
  },
  {
   "cell_type": "markdown",
   "metadata": {},
   "source": [
    "# Show beta for all-q"
   ]
  },
  {
   "cell_type": "code",
   "execution_count": null,
   "metadata": {
    "collapsed": false
   },
   "outputs": [],
   "source": [
    "md_q,md_t = xs.model_to_pds(model)\n",
    "\n",
    "y= ['B%s'%qn for qn in range(noqs)]\n",
    "yerr= ['Be%s'%qn for qn in range(noqs)]\n",
    "#yerr=None\n",
    "#y=['B0','B1']\n",
    "fig,ax=plt.subplots();\n",
    "#md_t.plot( ax=ax,marker='o',c='r',ls='-',markersize=6,subplots=F,\n",
    "    #lw=2,x='x',y=y,yerr=yerr,xlim=[0,2**10],logx=True,ylim=[0,.05],legend=T);\n",
    "for i in range( len(y)):\n",
    "    #print y[i]\n",
    "    md_t.plot( ax=ax,marker='o',ls='-',markersize=6,subplots=F,\n",
    "    lw=2,x=md_t['x']*1000,y=y[i],yerr=yerr[i],\n",
    "        xlim=[0,10**3*5],logx=True,ylim=[0.06,.15],legend=T);\n",
    "\n",
    "ax.set_xlabel(r't, ms',fontsize=22);ax.set_ylabel(r'$\\beta$',fontsize=22);\n",
    "ax.set_title( 'sid_%sbeta_%s.png'%(sid,noframes), fontsize= 20 )\n",
    "plt.savefig(outDir+\n",
    "    'sid_%sbeta_%s.png'%(sid,noframes) )\n",
    "plt.show()"
   ]
  },
  {
   "cell_type": "markdown",
   "metadata": {},
   "source": [
    "# Show beta for one-q"
   ]
  },
  {
   "cell_type": "code",
   "execution_count": null,
   "metadata": {
    "collapsed": false
   },
   "outputs": [],
   "source": [
    " \n",
    "qn=2;\n",
    "qv=qradi*qperpixel\n",
    "\n",
    "fig,ax=plt.subplots();\n",
    "md_t.plot( ax=ax,marker='o',c='k',ls='-',markersize=6,\n",
    "    title='Q=%.5f'%qv[qn],\n",
    "    lw=2,x=md_t['x']*1000,y='B%s'%qn,yerr='Be%s'%qn,ylim=[0.06,0.15],\n",
    "          xlim=[0,10**3*5],logx=True,legend=False);\n",
    "ax.set_xlabel('t, ms',fontsize=22);\n",
    "ax.set_ylabel(r'$\\beta$',fontsize=22);\n",
    "plt.savefig(outDir+\n",
    "    'sid_%sbeta_q%.5f_%s.png'%(sid,qv[qn],noframes) )\n",
    "plt.show()"
   ]
  },
  {
   "cell_type": "code",
   "execution_count": null,
   "metadata": {
    "collapsed": false
   },
   "outputs": [],
   "source": [
    "qn=5;\n",
    "qv=qradi*qperpixel\n",
    "\n",
    "fig,ax=plt.subplots();\n",
    "md_t.plot( ax=ax,marker='o',c='b',ls='-',markersize=6,\n",
    "    title='Q=%.5f'%qv[qn],\n",
    "    lw=2,x=md_t['x']*1000,y='B%s'%qn,yerr='Be%s'%qn,ylim=[0.06,0.15],\n",
    "          xlim=[0,10**3*5],logx=True,legend=False);\n",
    "ax.set_xlabel('t, ms',fontsize=22);\n",
    "ax.set_ylabel(r'$\\beta$',fontsize=22);\n",
    "plt.savefig(outDir+\n",
    "    'sid_%sbeta_q%.5f_%s.png'%(sid,qv[qn],noframes) )\n",
    "plt.show()"
   ]
  },
  {
   "cell_type": "code",
   "execution_count": null,
   "metadata": {
    "collapsed": false
   },
   "outputs": [],
   "source": [
    "qn=9;\n",
    "qv=qradi*qperpixel\n",
    "\n",
    "fig,ax=plt.subplots();\n",
    "md_t.plot( ax=ax,marker='o',c='r',ls='-',markersize=6,\n",
    "    title='Q=%.5f'%qv[qn],\n",
    "    lw=2,x=md_t['x']*1000,y='B%s'%qn,yerr='Be%s'%qn,ylim=[0.06,0.15],\n",
    "          xlim=[0,10**3*5],logx=True,legend=False);\n",
    "ax.set_xlabel('t, ms',fontsize=22);\n",
    "ax.set_ylabel(r'$\\beta$',fontsize=22);\n",
    "plt.savefig(outDir+\n",
    "    'sid_%sbeta_q%.5f_%s.png'%(sid,qv[qn],noframes) )\n",
    "plt.show()"
   ]
  },
  {
   "cell_type": "markdown",
   "metadata": {},
   "source": [
    "# The end"
   ]
  },
  {
   "cell_type": "code",
   "execution_count": null,
   "metadata": {
    "collapsed": true
   },
   "outputs": [],
   "source": []
  }
 ],
 "metadata": {
  "kernelspec": {
   "display_name": "CHX (py3)",
   "language": "",
   "name": "xf11id-srv1"
  },
  "language_info": {
   "codemirror_mode": {
    "name": "ipython",
    "version": 3
   },
   "file_extension": ".py",
   "mimetype": "text/x-python",
   "name": "python",
   "nbconvert_exporter": "python",
   "pygments_lexer": "ipython3",
   "version": "3.4.3"
  }
 },
 "nbformat": 4,
 "nbformat_minor": 0
}
